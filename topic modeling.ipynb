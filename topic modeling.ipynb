{
 "cells": [
  {
   "cell_type": "markdown",
   "metadata": {},
   "source": [
    "# import module"
   ]
  },
  {
   "cell_type": "code",
   "execution_count": 2,
   "metadata": {},
   "outputs": [],
   "source": [
    "from sklearn.feature_extraction.text import TfidfVectorizer, CountVectorizer\n",
    "from sklearn.decomposition import NMF, LatentDirichletAllocation"
   ]
  },
  {
   "cell_type": "markdown",
   "metadata": {},
   "source": [
    "# documents"
   ]
  },
  {
   "cell_type": "code",
   "execution_count": 13,
   "metadata": {},
   "outputs": [],
   "source": [
    "s1 = \" adwords adwords google google google google ads ads facebook shyam shyam\"\n",
    "s2 = \" facebook facebook facebook facebook post post is comment comment likes google\"\n",
    "s3 = \" cto cto cto cto cto reactjs reactjs reactjs js js js js its its \"\n",
    "s4 = \" twitter twitter twitter facebook tweet tweet tweet tweet tweet ram\"\n",
    "s5 = \" whitehat whitehat whitehat whitehat assurance assurance navi navi navi navi navi navi starbuck is zenladger zenladger zenladger\"\n",
    "s6 = \" cto cto cto cto cto cto nodejs nodejs nodejs reactjs reactjs reactjs reactjs ruby js js js\"\n",
    "s7 = \" twitter twitter twitter google facebook facebook shyam sundar sundar its\"\n",
    "s8 = \" ads ads ads ads adwords adwords adwords adwords twitter shyam\"\n",
    "s9 = \" whitehat whitehat whitehat whitehat whitehat assurance assurance navi navi navi navi its\"\n",
    "s10 =\" cto cto cto cto cto cto cto nodejs nodejs nodejs nodejs nodejs ruby ruby ruby rails rails rails rails rails rails\"\n",
    "s11 = \" adwords google google google google google google google google google google google ads ads gmail gmail gmail gmail gmail shyam\"\n",
    "s12 = \" whitehat twitter twitter twitter twitter facebook facebook tweet tweet tweet tweet tweet tweet ram ram ram ram ram ram ram\"\n",
    "s13 = \" cto cto cto cto cto nodejs nodejs nodejs nodejs ruby ruby ruby ruby ruby ruby php php php php ceo\"\n",
    "s14 = \" facebook facebook facebook facebook is post post comment comment comment comment likes twitter\"\n",
    "s15 = \" whitehat whitehat whitehat whitehat whitehat whitehat whitehat whitehat whitehat whitehat assurance assurance assurance navi navi navi navi navi starbuck starbuck\"\n",
    "s16 = \" twitter twitter twitter facebook tweet tweet tweet tweet tweet ram sundar sundar sundar sundar\"\n",
    "s17 = \" cto cto cto cto cto cto rails rails rails rails ruby ruby its its\"\n",
    "s18 = \" twitter twitter twitter twitter twitter google facebook facebook shyam sundar sundar sundar\"\n",
    "s19 = \" whitehat twitter twitter twitter twitter twitter twitter twitter twitter twitter twitter facebook facebook facebook tweet tweet tweet tweet tweet tweet its its sundar sundar sundar\"\n",
    "s20 = \" ads ads ads ads adwords adwords adwords adwords ram shyam\"\n",
    "s21 = \" whitehat whitehat assurance assurance assurance zenladger zenladger is\"\n",
    "s22 = \" cto cto cto cto rails rails rails rails ruby ruby nodejs nodejs nodejs its its ceo\"\n",
    "s23 = \" whitehat whitehat whitehat whitehat assurance assurance assurance assurance assurance zenladger its navi\"\n",
    "s24 = \" comment comment comment share share like google facebook facebook facebook facebook facebook facebook shyam sundar ram ram ram\"\n",
    "s25 = \" whitehat twitter facebook facebook facebook facebook facebook tweet comment comment comment likes likes likes share share its its ram ram ram\"\n",
    "s26 = \" google google ads ads adwords adwords adwords adwords adwords adwords adwords adwords ram shyam shyam shyam\"\n",
    "documents = [s1,s2,s3,s4,s5,s6,s7,s8,s9,s10,s11,s12,s13,s14,s15,s16,s17,s18,s19,s20,s21,s22,s23,s24,s25,s26]"
   ]
  },
  {
   "cell_type": "code",
   "execution_count": 4,
   "metadata": {},
   "outputs": [],
   "source": [
    "no_features = 100\n",
    "no_topics = 5\n",
    "no_top_words = 10"
   ]
  },
  {
   "cell_type": "markdown",
   "metadata": {},
   "source": [
    "tf-idf stands for term ferquency- inverse documnet frequency\n",
    "\n",
    "TfidfVectorizer is a collection content documnet to a matrix of of TF-IDF feature \n"
   ]
  },
  {
   "cell_type": "code",
   "execution_count": 9,
   "metadata": {},
   "outputs": [],
   "source": [
    "tfidf_vectorizer = TfidfVectorizer(max_df=0.95, min_df=2, max_features=no_features, stop_words='english')\n",
    "tfidf = tfidf_vectorizer.fit_transform(documents)\n",
    "tfidf_feature_names = tfidf_vectorizer.get_feature_names()"
   ]
  },
  {
   "cell_type": "markdown",
   "metadata": {},
   "source": [
    "Non-Negative Matrix Factorization (NMF), it returns feature and weight with no neagtive values\n",
    "\n",
    "\n",
    "NMF is realted to other clusterin(unsupervised) algorithm.\n",
    "\n"
   ]
  },
  {
   "cell_type": "code",
   "execution_count": 10,
   "metadata": {},
   "outputs": [],
   "source": [
    "# Run NMF\n",
    "nmf = NMF(n_components=no_topics, random_state=1, alpha=.1, l1_ratio=.5, init='nndsvd').fit(tfidf)\n"
   ]
  },
  {
   "cell_type": "code",
   "execution_count": 11,
   "metadata": {},
   "outputs": [],
   "source": [
    "def display_topics(model, feature_names, no_top_words):\n",
    "    for topic_idx, topic in enumerate(model.components_):\n",
    "        print(\"Topic %d:\" % (topic_idx))\n",
    "        print(\" \".join([feature_names[i] for i in topic.argsort()[:-no_top_words - 1:-1]]))"
   ]
  },
  {
   "cell_type": "code",
   "execution_count": 12,
   "metadata": {},
   "outputs": [
    {
     "name": "stdout",
     "output_type": "stream",
     "text": [
      "Topic 0:\n",
      "twitter tweet sundar facebook ram shyam google whitehat zenladger js\n",
      "Topic 1:\n",
      "cto rails nodejs ruby reactjs js ceo zenladger likes adwords\n",
      "Topic 2:\n",
      "whitehat assurance navi zenladger starbuck adwords ceo comment cto facebook\n",
      "Topic 3:\n",
      "adwords ads google shyam ram twitter facebook navi assurance ceo\n",
      "Topic 4:\n",
      "facebook comment post likes ram share google shyam twitter sundar\n"
     ]
    }
   ],
   "source": [
    "display_topics(nmf, tfidf_feature_names, no_top_words)"
   ]
  },
  {
   "cell_type": "code",
   "execution_count": null,
   "metadata": {},
   "outputs": [],
   "source": []
  }
 ],
 "metadata": {
  "kernelspec": {
   "display_name": "Python 3",
   "language": "python",
   "name": "python3"
  },
  "language_info": {
   "codemirror_mode": {
    "name": "ipython",
    "version": 3
   },
   "file_extension": ".py",
   "mimetype": "text/x-python",
   "name": "python",
   "nbconvert_exporter": "python",
   "pygments_lexer": "ipython3",
   "version": "3.6.4"
  }
 },
 "nbformat": 4,
 "nbformat_minor": 2
}
